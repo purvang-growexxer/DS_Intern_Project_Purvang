{
 "cells": [
  {
   "cell_type": "code",
   "execution_count": 1,
   "metadata": {},
   "outputs": [],
   "source": [
    "import pandas as pd"
   ]
  },
  {
   "cell_type": "code",
   "execution_count": 2,
   "metadata": {},
   "outputs": [],
   "source": [
    "df = pd.read_csv('part-merged_1.csv')"
   ]
  },
  {
   "cell_type": "code",
   "execution_count": 4,
   "metadata": {},
   "outputs": [],
   "source": [
    "df['StandardDateofBooking'] = pd.to_datetime(df['StandardDateofBooking'])\n",
    "df['StandardDateofJourney'] = pd.to_datetime(df['StandardDateofJourney'])"
   ]
  },
  {
   "cell_type": "code",
   "execution_count": 5,
   "metadata": {},
   "outputs": [
    {
     "name": "stdout",
     "output_type": "stream",
     "text": [
      "<class 'pandas.core.frame.DataFrame'>\n",
      "RangeIndex: 458869 entries, 0 to 458868\n",
      "Data columns (total 13 columns):\n",
      " #   Column                 Non-Null Count   Dtype         \n",
      "---  ------                 --------------   -----         \n",
      " 0   StandardDateofBooking  458869 non-null  datetime64[ns]\n",
      " 1   StandardDateofJourney  458869 non-null  datetime64[ns]\n",
      " 2   Month_of_Journey       458869 non-null  int64         \n",
      " 3   Airline_Company        449698 non-null  object        \n",
      " 4   Flight_Number          449698 non-null  object        \n",
      " 5   Flight_Class           449698 non-null  object        \n",
      " 6   Departure_Time         449704 non-null  object        \n",
      " 7   Departure_City         449704 non-null  object        \n",
      " 8   Arrival_Time           449710 non-null  object        \n",
      " 9   Arrival_City           449710 non-null  object        \n",
      " 10  Duration_in_mins       449719 non-null  float64       \n",
      " 11  Total Stops            449690 non-null  object        \n",
      " 12  Price                  449697 non-null  float64       \n",
      "dtypes: datetime64[ns](2), float64(2), int64(1), object(8)\n",
      "memory usage: 45.5+ MB\n"
     ]
    }
   ],
   "source": [
    "df.info()"
   ]
  },
  {
   "cell_type": "code",
   "execution_count": null,
   "metadata": {},
   "outputs": [],
   "source": []
  }
 ],
 "metadata": {
  "kernelspec": {
   "display_name": "base",
   "language": "python",
   "name": "python3"
  },
  "language_info": {
   "codemirror_mode": {
    "name": "ipython",
    "version": 3
   },
   "file_extension": ".py",
   "mimetype": "text/x-python",
   "name": "python",
   "nbconvert_exporter": "python",
   "pygments_lexer": "ipython3",
   "version": "3.11.5"
  }
 },
 "nbformat": 4,
 "nbformat_minor": 2
}
