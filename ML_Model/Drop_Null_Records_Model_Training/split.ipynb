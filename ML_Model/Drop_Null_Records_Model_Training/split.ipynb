{
 "cells": [
  {
   "cell_type": "code",
   "execution_count": 1,
   "metadata": {},
   "outputs": [],
   "source": [
    "import pandas as pd\n",
    "import numpy as np\n",
    "import matplotlib.pyplot as plt\n",
    "import seaborn as sns\n",
    "import warnings\n",
    "from datetime import datetime"
   ]
  },
  {
   "cell_type": "code",
   "execution_count": 2,
   "metadata": {},
   "outputs": [],
   "source": [
    "import snowflake.connector\n",
    "import pandas as pd\n",
    "\n",
    "# Function to load Google Gemini model and provide query as response\n",
    "\n",
    "# Function to retrieve query from Snowflake database and return as a Pandas DataFrame\n",
    "def read_snowflake_query(sql):\n",
    "    # Establish connection to Snowflake\n",
    "    conn = snowflake.connector.connect(\n",
    "        user='your_username',\n",
    "        password='your_password',\n",
    "        account='your_accountname',\n",
    "        warehouse='your_warehouse',\n",
    "        database='your_database',\n",
    "        schema='you_schema'\n",
    "    )\n",
    "    # Execute the query and fetch all results\n",
    "    df = pd.read_sql(sql, conn)\n",
    "    \n",
    "    # Close the connection\n",
    "    conn.close()\n",
    "\n",
    "    return df\n",
    "\n",
    "# Example usage:\n",
    "sql = \"SELECT * FROM your_table;\"\n",
    "df = read_snowflake_query(sql)"
   ]
  },
  {
   "cell_type": "code",
   "execution_count": 3,
   "metadata": {},
   "outputs": [],
   "source": [
    "df = df.dropna()\n",
    "\n",
    "df.reset_index(drop=True, inplace=True)"
   ]
  },
  {
   "cell_type": "code",
   "execution_count": 4,
   "metadata": {},
   "outputs": [
    {
     "name": "stdout",
     "output_type": "stream",
     "text": [
      "<class 'pandas.core.frame.DataFrame'>\n",
      "RangeIndex: 406478 entries, 0 to 406477\n",
      "Data columns (total 13 columns):\n",
      " #   Column                 Non-Null Count   Dtype  \n",
      "---  ------                 --------------   -----  \n",
      " 0   StandardDateofBooking  406478 non-null  object \n",
      " 1   StandardDateofJourney  406478 non-null  object \n",
      " 2   Month_of_Journey       406478 non-null  int64  \n",
      " 3   Airline_Company        406478 non-null  object \n",
      " 4   Flight_Number          406478 non-null  object \n",
      " 5   Flight_Class           406478 non-null  object \n",
      " 6   Departure_Time         406478 non-null  object \n",
      " 7   Departure_City         406478 non-null  object \n",
      " 8   Arrival_Time           406478 non-null  object \n",
      " 9   Arrival_City           406478 non-null  object \n",
      " 10  Duration_in_mins       406478 non-null  float64\n",
      " 11  Total Stops            406478 non-null  object \n",
      " 12  Price                  406478 non-null  float64\n",
      "dtypes: float64(2), int64(1), object(10)\n",
      "memory usage: 40.3+ MB\n"
     ]
    }
   ],
   "source": [
    "df.info()"
   ]
  },
  {
   "cell_type": "code",
   "execution_count": 5,
   "metadata": {},
   "outputs": [],
   "source": [
    "from sklearn.model_selection import train_test_split\n",
    "\n",
    "train, test = train_test_split(df, test_size=0.2, random_state=42)\n",
    "\n",
    "train.to_csv('train_data.csv', index=False)\n",
    "test.to_csv('test_data.csv', index=False)"
   ]
  },
  {
   "cell_type": "code",
   "execution_count": null,
   "metadata": {},
   "outputs": [],
   "source": []
  }
 ],
 "metadata": {
  "kernelspec": {
   "display_name": "base",
   "language": "python",
   "name": "python3"
  },
  "language_info": {
   "codemirror_mode": {
    "name": "ipython",
    "version": 3
   },
   "file_extension": ".py",
   "mimetype": "text/x-python",
   "name": "python",
   "nbconvert_exporter": "python",
   "pygments_lexer": "ipython3",
   "version": "3.11.5"
  }
 },
 "nbformat": 4,
 "nbformat_minor": 2
}
